from power_graph.core.groups import CyclicGroup, GLGroup
from power_graph.core.graphs import PowerGraph
import pandas as pd
import matplotlib.pyplot as plt














G = CyclicGroup(3)
G.print_elements()














GL = GLGroup(2,2)
GL.print_elements()






































orders = [3, 5]

fig, axes = plt.subplots(2, 2, figsize=(10, 8))

for idx, n in enumerate(orders):
    G = CyclicGroup(n)
    graph = PowerGraph(G, directed=False)
    graph.draw(ax=axes[0, idx],
               title=f"Power Graph no dirigido de C{n}",
               node_color="skyblue",
               node_size=300)
    
for idx, n in enumerate(orders):
    G = CyclicGroup(n)
    graph = PowerGraph(G, directed=True)
    graph.draw(ax=axes[1, idx],
               title=f"Power Graph dirigido de C{n}",
               node_color="lightgreen",
               node_size=300)

plt.tight_layout()
plt.show()





G = CyclicGroup(5)
G2 = CyclicGroup(4)


G2.print_elements()


graph1 = PowerGraph(G, directed = False)
graph2 = PowerGraph(G2, directed = False)


graph2.draw()


orders = [3, 5, 7, 11]
summary_data = []

# Grafo no dirigido
for n in orders:
    G = CyclicGroup(n)
    graph = PowerGraph(G, directed=False)
    summary = graph.summarize()
    summary_data.append({
        "Grupo": f"C{n}",
        "Tipo": "No dirigido",
        "Nodos": summary["summary"]["Nodos"].iloc[0],
        "Aristas": summary["summary"]["Aristas"].iloc[0],
        "Partes conexas": summary["summary"]["Partes conexas"].iloc[0],
        "Grado máximo": summary["summary"]["Grado máximo"].iloc[0],
        "Grado mínimo": summary["summary"]["Grado mínimo"].iloc[0]
    })

# Grafo dirigido
for n in orders:
    G = CyclicGroup(n)
    graph = PowerGraph(G, directed=True)
    summary = graph.summarize()
    summary_data.append({
        "Grupo": f"C{n}",
        "Tipo": "Dirigido",
        "Nodos": summary["summary"]["Nodos"].iloc[0],
        "Aristas": summary["summary"]["Aristas"].iloc[0],
        "Partes conexas": summary["summary"]["Partes conexas"].iloc[0],
        "Grado máximo": summary["summary"]["Grado máximo"].iloc[0],
        "Grado mínimo": summary["summary"]["Grado mínimo"].iloc[0]
    })

df_summary = pd.DataFrame(summary_data)
df_summary





mods = [2, 3]

fig, axes = plt.subplots(2, 2, figsize=(10, 8))

# Fila superior: power graphs no dirigidos
for idx, p in enumerate(mods):
    GL = GLGroup(2, p)
    graph = PowerGraph(GL, directed=False)
    graph.draw(ax=axes[0, idx],
               title=f"Power Graph no dirigido de GL(2,{p})",
               node_color="skyblue",
               node_size=300)

# Fila inferior: power graphs dirigidos
for idx, p in enumerate(mods):
    GL = GLGroup(2, p)
    graph = PowerGraph(GL, directed=True)
    graph.draw(ax=axes[1, idx],
               title=f"Power Graph dirigido de GL(2,{p})",
               node_color="lightgreen",
               node_size=300)

plt.tight_layout()
plt.show()





dims = [2, 3]
mods = [2, 3]

summary_data = []

for n in dims:
    for p in mods:
        GL = GLGroup(n, p)
        for directed in [False, True]:
            graph = PowerGraph(GL, directed=directed)
            summary = graph.summarize()
            summary_data.append({
                "Grupo": f"GL({n},{p})",
                "Dimensión": n,
                "Módulo": p,
                "Tipo": "Dirigido" if directed else "No dirigido",
                "Nodos": summary["summary"]["Nodos"].iloc[0],
                "Aristas": summary["summary"]["Aristas"].iloc[0],
                "Partes conexas": summary["summary"]["Partes conexas"].iloc[0],
                "Grado máximo": summary["summary"]["Grado máximo"].iloc[0],
                "Grado mínimo": summary["summary"]["Grado mínimo"].iloc[0]
            })

df_summary = pd.DataFrame(summary_data)
df_summary





groups = [
    ("C(50)", CyclicGroup(50)),
    ("GL(3,2)", GLGroup(3,2))
]

fig, axes = plt.subplots(1, 2, figsize=(12, 5))
images = []

for idx, (name, G) in enumerate(groups):
    graph = PowerGraph(G, directed=False)
    summary = graph.summarize()
    
    adjacency = summary["adjacency_matrix"]
    
    im = axes[idx].imshow(adjacency, cmap="Blues", interpolation="none")
    axes[idx].set_title(f"Matriz de Adyacencia - {name} - No Dirigido", fontsize=10, pad=15)
    axes[idx].set_xlabel("Columnas", fontsize=9)
    axes[idx].set_ylabel("Filas", fontsize=9)
    
    images.append(im)

plt.subplots_adjust(left=0.05, right=0.82, wspace=0.25, top=0.9, bottom=0.1)

cbar_ax = fig.add_axes([0.85, 0.15, 0.03, 0.7])
fig.colorbar(images[0], cax=cbar_ax)

plt.show()


groups = [
    ("C(50)", CyclicGroup(50)),
    ("GL(3,2)", GLGroup(3,2))
]

fig, axes = plt.subplots(1, 2, figsize=(12, 5))
images = []

for idx, (name, G) in enumerate(groups):
    graph = PowerGraph(G, directed=True)
    summary = graph.summarize()
    
    adjacency = summary["adjacency_matrix"]
    
    im = axes[idx].imshow(adjacency, cmap="Blues", interpolation="none")
    axes[idx].set_title(f"Matriz de Adyacencia - {name} - Dirigido", fontsize=10, pad=15)  # <- pad ajustado
    axes[idx].set_xlabel("Columnas", fontsize=9)
    axes[idx].set_ylabel("Filas", fontsize=9)
    
    images.append(im)

plt.subplots_adjust(left=0.05, right=0.82, wspace=0.25, top=0.9, bottom=0.1)

cbar_ax = fig.add_axes([0.85, 0.15, 0.03, 0.7])
fig.colorbar(images[0], cax=cbar_ax)

plt.show()












